{
 "cells": [
  {
   "cell_type": "markdown",
   "id": "d81e4483",
   "metadata": {},
   "source": [
    "Implement Random Forest\n",
    "<br>\n",
    "Implement Ensemble learning for any 3 classifiers"
   ]
  }
 ],
 "metadata": {
  "language_info": {
   "name": "python"
  }
 },
 "nbformat": 4,
 "nbformat_minor": 5
}
