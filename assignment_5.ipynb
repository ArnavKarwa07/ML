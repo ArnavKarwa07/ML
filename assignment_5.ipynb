{
 "cells": [
  {
   "cell_type": "markdown",
   "id": "d81e4483",
   "metadata": {},
   "source": [
    "Implement Random Forest\n",
    "<br>\n",
    "Implement Ensemble learning for any 3 classifiers"
   ]
  },
  {
   "cell_type": "code",
   "execution_count": 1,
   "id": "74e69ad9",
   "metadata": {},
   "outputs": [],
   "source": [
    "import pandas as pd\n",
    "import matplotlib.pyplot as plt\n",
    "import seaborn as sns\n",
    "import numpy as np\n",
    "from sklearn.model_selection import train_test_split\n",
    "from sklearn.preprocessing import StandardScaler\n",
    "from sklearn.metrics import accuracy_score, classification_report, precision_score, recall_score, f1_score\n",
    "from sklearn.ensemble import RandomForestClassifier, AdaBoostClassifier, BaggingClassifier"
   ]
  },
  {
   "cell_type": "code",
   "execution_count": 2,
   "id": "53db200c",
   "metadata": {},
   "outputs": [
    {
     "data": {
      "text/html": [
       "<div>\n",
       "<style scoped>\n",
       "    .dataframe tbody tr th:only-of-type {\n",
       "        vertical-align: middle;\n",
       "    }\n",
       "\n",
       "    .dataframe tbody tr th {\n",
       "        vertical-align: top;\n",
       "    }\n",
       "\n",
       "    .dataframe thead th {\n",
       "        text-align: right;\n",
       "    }\n",
       "</style>\n",
       "<table border=\"1\" class=\"dataframe\">\n",
       "  <thead>\n",
       "    <tr style=\"text-align: right;\">\n",
       "      <th></th>\n",
       "      <th>Pregnancies</th>\n",
       "      <th>Glucose</th>\n",
       "      <th>BloodPressure</th>\n",
       "      <th>SkinThickness</th>\n",
       "      <th>Insulin</th>\n",
       "      <th>BMI</th>\n",
       "      <th>DiabetesPedigreeFunction</th>\n",
       "      <th>Age</th>\n",
       "      <th>Outcome</th>\n",
       "    </tr>\n",
       "  </thead>\n",
       "  <tbody>\n",
       "    <tr>\n",
       "      <th>0</th>\n",
       "      <td>6</td>\n",
       "      <td>148</td>\n",
       "      <td>72</td>\n",
       "      <td>35</td>\n",
       "      <td>0</td>\n",
       "      <td>33.6</td>\n",
       "      <td>0.627</td>\n",
       "      <td>50</td>\n",
       "      <td>1</td>\n",
       "    </tr>\n",
       "    <tr>\n",
       "      <th>1</th>\n",
       "      <td>1</td>\n",
       "      <td>85</td>\n",
       "      <td>66</td>\n",
       "      <td>29</td>\n",
       "      <td>0</td>\n",
       "      <td>26.6</td>\n",
       "      <td>0.351</td>\n",
       "      <td>31</td>\n",
       "      <td>0</td>\n",
       "    </tr>\n",
       "    <tr>\n",
       "      <th>2</th>\n",
       "      <td>8</td>\n",
       "      <td>183</td>\n",
       "      <td>64</td>\n",
       "      <td>0</td>\n",
       "      <td>0</td>\n",
       "      <td>23.3</td>\n",
       "      <td>0.672</td>\n",
       "      <td>32</td>\n",
       "      <td>1</td>\n",
       "    </tr>\n",
       "    <tr>\n",
       "      <th>3</th>\n",
       "      <td>1</td>\n",
       "      <td>89</td>\n",
       "      <td>66</td>\n",
       "      <td>23</td>\n",
       "      <td>94</td>\n",
       "      <td>28.1</td>\n",
       "      <td>0.167</td>\n",
       "      <td>21</td>\n",
       "      <td>0</td>\n",
       "    </tr>\n",
       "    <tr>\n",
       "      <th>4</th>\n",
       "      <td>0</td>\n",
       "      <td>137</td>\n",
       "      <td>40</td>\n",
       "      <td>35</td>\n",
       "      <td>168</td>\n",
       "      <td>43.1</td>\n",
       "      <td>2.288</td>\n",
       "      <td>33</td>\n",
       "      <td>1</td>\n",
       "    </tr>\n",
       "  </tbody>\n",
       "</table>\n",
       "</div>"
      ],
      "text/plain": [
       "   Pregnancies  Glucose  BloodPressure  SkinThickness  Insulin   BMI  \\\n",
       "0            6      148             72             35        0  33.6   \n",
       "1            1       85             66             29        0  26.6   \n",
       "2            8      183             64              0        0  23.3   \n",
       "3            1       89             66             23       94  28.1   \n",
       "4            0      137             40             35      168  43.1   \n",
       "\n",
       "   DiabetesPedigreeFunction  Age  Outcome  \n",
       "0                     0.627   50        1  \n",
       "1                     0.351   31        0  \n",
       "2                     0.672   32        1  \n",
       "3                     0.167   21        0  \n",
       "4                     2.288   33        1  "
      ]
     },
     "execution_count": 2,
     "metadata": {},
     "output_type": "execute_result"
    }
   ],
   "source": [
    "# Load dataset\n",
    "df = pd.read_csv(\"diabetes.csv\")\n",
    "\n",
    "df.head()"
   ]
  },
  {
   "cell_type": "code",
   "execution_count": 3,
   "id": "6f10ba2b",
   "metadata": {},
   "outputs": [
    {
     "name": "stdout",
     "output_type": "stream",
     "text": [
      "Training set: (614, 8)\n",
      "Test set: (154, 8)\n",
      "Data prepared successfully!\n"
     ]
    }
   ],
   "source": [
    "# Simple data preparation\n",
    "# Prepare features and target\n",
    "X = df.drop('Outcome', axis=1)\n",
    "y = df['Outcome']\n",
    "\n",
    "# Split data\n",
    "X_train, X_test, y_train, y_test = train_test_split(X, y, test_size=0.2, random_state=42)\n",
    "\n",
    "# Scale features for SVM and Logistic Regression\n",
    "scaler = StandardScaler()\n",
    "X_train_scaled = scaler.fit_transform(X_train)\n",
    "X_test_scaled = scaler.transform(X_test)\n",
    "\n",
    "print(f\"Training set: {X_train.shape}\")\n",
    "print(f\"Test set: {X_test.shape}\")\n",
    "print(\"Data prepared successfully!\")"
   ]
  },
  {
   "cell_type": "code",
   "execution_count": 4,
   "id": "889c7ee2",
   "metadata": {},
   "outputs": [
    {
     "name": "stdout",
     "output_type": "stream",
     "text": [
      "THREE ENSEMBLE MODELS: RandomForest, AdaBoost, Bagging\n",
      "Random Forest Accuracy: 0.7208\n",
      "AdaBoost Accuracy: 0.7792\n",
      "Bagging (Bootstrap) Accuracy: 0.7013\n",
      "AdaBoost Accuracy: 0.7792\n",
      "Bagging (Bootstrap) Accuracy: 0.7013\n"
     ]
    }
   ],
   "source": [
    "# 3 Classifiers: Random Forest, AdaBoost (boosting), Bagging (bootstrap)\n",
    "print(\"THREE ENSEMBLE MODELS: RandomForest, AdaBoost, Bagging\")\n",
    "\n",
    "# 1. Random Forest (default parameters)\n",
    "rf = RandomForestClassifier(random_state=42)\n",
    "rf.fit(X_train, y_train)\n",
    "rf_pred = rf.predict(X_test)\n",
    "rf_accuracy = accuracy_score(y_test, rf_pred)\n",
    "\n",
    "print(f\"Random Forest Accuracy: {rf_accuracy:.4f}\")\n",
    "\n",
    "# 2. AdaBoost (default parameters)\n",
    "ada = AdaBoostClassifier(random_state=42)\n",
    "ada.fit(X_train, y_train)\n",
    "ada_pred = ada.predict(X_test)\n",
    "ada_accuracy = accuracy_score(y_test, ada_pred)\n",
    "\n",
    "print(f\"AdaBoost Accuracy: {ada_accuracy:.4f}\")\n",
    "\n",
    "# 3. BaggingClassifier (bootstrap-based ensemble)\n",
    "bag = BaggingClassifier(random_state=42)\n",
    "bag.fit(X_train, y_train)\n",
    "bag_pred = bag.predict(X_test)\n",
    "bag_accuracy = accuracy_score(y_test, bag_pred)\n",
    "\n",
    "print(f\"Bagging (Bootstrap) Accuracy: {bag_accuracy:.4f}\")"
   ]
  },
  {
   "cell_type": "code",
   "execution_count": 5,
   "id": "07946979",
   "metadata": {},
   "outputs": [
    {
     "name": "stdout",
     "output_type": "stream",
     "text": [
      "\n",
      "PERFORMANCE COMPARISON\n",
      "\n",
      "Performance Metrics:\n",
      "              Model  Accuracy  Precision  Recall  F1-Score\n",
      "      Random Forest    0.7208     0.6071  0.6182    0.6126\n",
      "           AdaBoost    0.7792     0.6780  0.7273    0.7018\n",
      "Bagging (Bootstrap)    0.7013     0.5818  0.5818    0.5818\n"
     ]
    }
   ],
   "source": [
    "# Performance Comparison\n",
    "print(\"\\nPERFORMANCE COMPARISON\")\n",
    "\n",
    "models_data = []\n",
    "\n",
    "# Random Forest metrics\n",
    "rf_precision = precision_score(y_test, rf_pred)\n",
    "rf_recall = recall_score(y_test, rf_pred)\n",
    "rf_f1 = f1_score(y_test, rf_pred)\n",
    "models_data.append({\n",
    "    'Model': 'Random Forest',\n",
    "    'Accuracy': rf_accuracy,\n",
    "    'Precision': rf_precision,\n",
    "    'Recall': rf_recall,\n",
    "    'F1-Score': rf_f1\n",
    "})\n",
    "\n",
    "# AdaBoost metrics\n",
    "ada_precision = precision_score(y_test, ada_pred)\n",
    "ada_recall = recall_score(y_test, ada_pred)\n",
    "ada_f1 = f1_score(y_test, ada_pred)\n",
    "models_data.append({\n",
    "    'Model': 'AdaBoost',\n",
    "    'Accuracy': ada_accuracy,\n",
    "    'Precision': ada_precision,\n",
    "    'Recall': ada_recall,\n",
    "    'F1-Score': ada_f1\n",
    "})\n",
    "\n",
    "# Bagging metrics\n",
    "bag_precision = precision_score(y_test, bag_pred)\n",
    "bag_recall = recall_score(y_test, bag_pred)\n",
    "bag_f1 = f1_score(y_test, bag_pred)\n",
    "models_data.append({\n",
    "    'Model': 'Bagging (Bootstrap)',\n",
    "    'Accuracy': bag_accuracy,\n",
    "    'Precision': bag_precision,\n",
    "    'Recall': bag_recall,\n",
    "    'F1-Score': bag_f1\n",
    "})\n",
    "\n",
    "# Create comparison DataFrame\n",
    "comparison_df = pd.DataFrame(models_data)\n",
    "\n",
    "print(\"\\nPerformance Metrics:\")\n",
    "print(comparison_df.round(4).to_string(index=False))"
   ]
  },
  {
   "cell_type": "code",
   "execution_count": 6,
   "id": "812bc3d3",
   "metadata": {},
   "outputs": [
    {
     "data": {
      "image/png": "[encoded data removed]",
      "text/plain": [
       "<Figure size 1200x800 with 1 Axes>"
      ]
     },
     "metadata": {},
     "output_type": "display_data"
    }
   ],
   "source": [
    "# Performance Visualization\n",
    "plt.figure(figsize=(12, 8))\n",
    "\n",
    "models = comparison_df['Model']\n",
    "metrics = ['Accuracy', 'Precision', 'Recall', 'F1-Score']\n",
    "colors = ['skyblue', 'lightcoral', 'lightgreen']\n",
    "\n",
    "x = np.arange(len(metrics))\n",
    "width = 0.25\n",
    "\n",
    "for i, model in enumerate(models):\n",
    "    values = [comparison_df.iloc[i][metric] for metric in metrics]\n",
    "    plt.bar(x + i*width, values, width, label=model, color=colors[i], alpha=0.8)\n",
    "    for j, v in enumerate(values):\n",
    "        plt.text(x[j] + i*width, v + 0.01, f'{v:.3f}', ha='center', va='bottom', fontsize=10)\n",
    "\n",
    "plt.xlabel('Performance Metrics')\n",
    "plt.ylabel('Score')\n",
    "plt.title('Random Forest vs AdaBoost vs Bagging (Bootstrap) Performance Comparison')\n",
    "plt.xticks(x + width, metrics)\n",
    "plt.legend()\n",
    "plt.ylim(0, 1.1)\n",
    "plt.grid(axis='y', alpha=0.3)\n",
    "plt.tight_layout()\n",
    "plt.show()"
   ]
  },
  {
   "cell_type": "markdown",
   "id": "b747b514",
   "metadata": {},
   "source": [
    "## Inference\n",
    "\n",
    "After evaluating Random Forest, AdaBoost, and Bagging (bootstrap) on the diabetes dataset:\n",
    "\n",
    "- Random Forest provides robust predictions by averaging many decision trees and typically reduces variance.\n",
    "- AdaBoost (boosting) focuses on hard examples and often improves recall and F1 by combining weak learners.\n",
    "- Bagging (bootstrap) reduces variance by training base estimators on bootstrap samples and aggregating their predictions.\n",
    "\n",
    "Boosting is by far the best model for this dataset"
   ]
  }
 ],
 "metadata": {
  "kernelspec": {
   "display_name": "Python 3",
   "language": "python",
   "name": "python3"
  },
  "language_info": {
   "codemirror_mode": {
    "name": "ipython",
    "version": 3
   },
   "file_extension": ".py",
   "mimetype": "text/x-python",
   "name": "python",
   "nbconvert_exporter": "python",
   "pygments_lexer": "ipython3",
   "version": "3.12.9"
  }
 },
 "nbformat": 4,
 "nbformat_minor": 5
}
