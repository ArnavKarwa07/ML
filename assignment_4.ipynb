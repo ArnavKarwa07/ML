{
 "cells": [
  {
   "cell_type": "markdown",
   "id": "e2286e10",
   "metadata": {},
   "source": [
    "### Objectives\n",
    "Implementation of SVM\n",
    "<br>\n",
    "Comparing performance of SVM with tree based classifier"
   ]
  },
  {
   "cell_type": "code",
   "execution_count": 38,
   "id": "1caadebe",
   "metadata": {},
   "outputs": [],
   "source": [
    "import pandas as pd\n",
    "import matplotlib.pyplot as plt\n",
    "import seaborn as sns\n",
    "import numpy as np\n",
    "from sklearn.model_selection import train_test_split\n",
    "from sklearn.preprocessing import StandardScaler\n",
    "from sklearn.metrics import accuracy_score, classification_report, precision_score, recall_score, f1_score\n",
    "from sklearn.svm import SVC\n",
    "from sklearn.tree import DecisionTreeClassifier"
   ]
  },
  {
   "cell_type": "code",
   "execution_count": 39,
   "id": "001bd148",
   "metadata": {},
   "outputs": [
    {
     "data": {
      "text/html": [
       "<div>\n",
       "<style scoped>\n",
       "    .dataframe tbody tr th:only-of-type {\n",
       "        vertical-align: middle;\n",
       "    }\n",
       "\n",
       "    .dataframe tbody tr th {\n",
       "        vertical-align: top;\n",
       "    }\n",
       "\n",
       "    .dataframe thead th {\n",
       "        text-align: right;\n",
       "    }\n",
       "</style>\n",
       "<table border=\"1\" class=\"dataframe\">\n",
       "  <thead>\n",
       "    <tr style=\"text-align: right;\">\n",
       "      <th></th>\n",
       "      <th>Pregnancies</th>\n",
       "      <th>Glucose</th>\n",
       "      <th>BloodPressure</th>\n",
       "      <th>SkinThickness</th>\n",
       "      <th>Insulin</th>\n",
       "      <th>BMI</th>\n",
       "      <th>DiabetesPedigreeFunction</th>\n",
       "      <th>Age</th>\n",
       "      <th>Outcome</th>\n",
       "    </tr>\n",
       "  </thead>\n",
       "  <tbody>\n",
       "    <tr>\n",
       "      <th>0</th>\n",
       "      <td>6</td>\n",
       "      <td>148</td>\n",
       "      <td>72</td>\n",
       "      <td>35</td>\n",
       "      <td>0</td>\n",
       "      <td>33.6</td>\n",
       "      <td>0.627</td>\n",
       "      <td>50</td>\n",
       "      <td>1</td>\n",
       "    </tr>\n",
       "    <tr>\n",
       "      <th>1</th>\n",
       "      <td>1</td>\n",
       "      <td>85</td>\n",
       "      <td>66</td>\n",
       "      <td>29</td>\n",
       "      <td>0</td>\n",
       "      <td>26.6</td>\n",
       "      <td>0.351</td>\n",
       "      <td>31</td>\n",
       "      <td>0</td>\n",
       "    </tr>\n",
       "    <tr>\n",
       "      <th>2</th>\n",
       "      <td>8</td>\n",
       "      <td>183</td>\n",
       "      <td>64</td>\n",
       "      <td>0</td>\n",
       "      <td>0</td>\n",
       "      <td>23.3</td>\n",
       "      <td>0.672</td>\n",
       "      <td>32</td>\n",
       "      <td>1</td>\n",
       "    </tr>\n",
       "    <tr>\n",
       "      <th>3</th>\n",
       "      <td>1</td>\n",
       "      <td>89</td>\n",
       "      <td>66</td>\n",
       "      <td>23</td>\n",
       "      <td>94</td>\n",
       "      <td>28.1</td>\n",
       "      <td>0.167</td>\n",
       "      <td>21</td>\n",
       "      <td>0</td>\n",
       "    </tr>\n",
       "    <tr>\n",
       "      <th>4</th>\n",
       "      <td>0</td>\n",
       "      <td>137</td>\n",
       "      <td>40</td>\n",
       "      <td>35</td>\n",
       "      <td>168</td>\n",
       "      <td>43.1</td>\n",
       "      <td>2.288</td>\n",
       "      <td>33</td>\n",
       "      <td>1</td>\n",
       "    </tr>\n",
       "  </tbody>\n",
       "</table>\n",
       "</div>"
      ],
      "text/plain": [
       "   Pregnancies  Glucose  BloodPressure  SkinThickness  Insulin   BMI  \\\n",
       "0            6      148             72             35        0  33.6   \n",
       "1            1       85             66             29        0  26.6   \n",
       "2            8      183             64              0        0  23.3   \n",
       "3            1       89             66             23       94  28.1   \n",
       "4            0      137             40             35      168  43.1   \n",
       "\n",
       "   DiabetesPedigreeFunction  Age  Outcome  \n",
       "0                     0.627   50        1  \n",
       "1                     0.351   31        0  \n",
       "2                     0.672   32        1  \n",
       "3                     0.167   21        0  \n",
       "4                     2.288   33        1  "
      ]
     },
     "execution_count": 39,
     "metadata": {},
     "output_type": "execute_result"
    }
   ],
   "source": [
    "# Load dataset\n",
    "df = pd.read_csv(\"diabetes.csv\")\n",
    "\n",
    "df.head()"
   ]
  },
  {
   "cell_type": "code",
   "execution_count": 40,
   "id": "20a02328",
   "metadata": {},
   "outputs": [
    {
     "name": "stdout",
     "output_type": "stream",
     "text": [
      "Training set: (614, 8)\n",
      "Test set: (154, 8)\n",
      "Data prepared successfully!\n"
     ]
    }
   ],
   "source": [
    "# Simple data preparation\n",
    "# Prepare features and target\n",
    "X = df.drop('Outcome', axis=1)\n",
    "y = df['Outcome']\n",
    "\n",
    "# Split data\n",
    "X_train, X_test, y_train, y_test = train_test_split(X, y, test_size=0.2, random_state=42)\n",
    "\n",
    "# Scale features for SVM\n",
    "scaler = StandardScaler()\n",
    "X_train_scaled = scaler.fit_transform(X_train)\n",
    "X_test_scaled = scaler.transform(X_test)\n",
    "\n",
    "print(f\"Training set: {X_train.shape}\")\n",
    "print(f\"Test set: {X_test.shape}\")\n",
    "print(\"Data prepared successfully!\")"
   ]
  },
  {
   "cell_type": "code",
   "execution_count": 41,
   "id": "ee2d8d69",
   "metadata": {},
   "outputs": [
    {
     "name": "stdout",
     "output_type": "stream",
     "text": [
      "SVM CLASSIFIERS\n",
      "\n",
      "1. Linear SVM Accuracy: 0.7597\n",
      "2. RBF SVM Accuracy: 0.7338\n"
     ]
    }
   ],
   "source": [
    "# SVM Implementation\n",
    "print(\"SVM CLASSIFIERS\")\n",
    "\n",
    "# Linear SVM \n",
    "svm_linear = SVC(\n",
    "    kernel='linear',           # Linear kernel\n",
    "    C=1.0,                    # Regularization parameter (default)\n",
    "    gamma='scale',            # Kernel coefficient (default)\n",
    "    degree=3,                 # Degree for polynomial kernel (default)\n",
    "    coef0=0.0,                # Independent term in kernel function (default)\n",
    "    shrinking=True,           # Use shrinking heuristic (default)\n",
    "    probability=False,        # Probability estimates (default)\n",
    "    tol=1e-3,                 # Tolerance for stopping criterion (default)\n",
    "    cache_size=200,           # Kernel cache size in MB (default)\n",
    "    class_weight=None,        # Weights associated with classes (default)\n",
    "    verbose=False,            # Verbose output (default)\n",
    "    max_iter=-1,              # Hard limit on iterations (default)\n",
    "    decision_function_shape='ovr',  # Decision function shape (default)\n",
    "    break_ties=False,         # Break ties (default)\n",
    "    random_state=42\n",
    ")\n",
    "\n",
    "svm_linear.fit(X_train_scaled, y_train)\n",
    "linear_pred = svm_linear.predict(X_test_scaled)\n",
    "linear_accuracy = accuracy_score(y_test, linear_pred)\n",
    "\n",
    "print(f\"\\n1. Linear SVM Accuracy: {linear_accuracy:.4f}\")\n",
    "\n",
    "# RBF SVM \n",
    "svm_rbf = SVC(\n",
    "    kernel='rbf',\n",
    "    random_state=42\n",
    ")\n",
    "\n",
    "svm_rbf.fit(X_train_scaled, y_train)\n",
    "rbf_pred = svm_rbf.predict(X_test_scaled)\n",
    "rbf_accuracy = accuracy_score(y_test, rbf_pred)\n",
    "\n",
    "print(f\"2. RBF SVM Accuracy: {rbf_accuracy:.4f}\")\n",
    "\n",
    "# Store results\n",
    "svm_results = {\n",
    "    'Linear SVM': linear_accuracy,\n",
    "    'RBF SVM': rbf_accuracy\n",
    "}"
   ]
  },
  {
   "cell_type": "code",
   "execution_count": 42,
   "id": "40a2f992",
   "metadata": {},
   "outputs": [
    {
     "name": "stdout",
     "output_type": "stream",
     "text": [
      "\n",
      "TREE-BASED CLASSIFIER\n",
      "\n",
      "Decision Tree Accuracy: 0.7532\n"
     ]
    }
   ],
   "source": [
    "# Tree-based Classifier\n",
    "print(\"\\nTREE-BASED CLASSIFIER\")\n",
    "\n",
    "# Decision Tree\n",
    "dt_classifier = DecisionTreeClassifier(random_state=42, max_depth=10)\n",
    "dt_classifier.fit(X_train, y_train)  # No scaling needed for trees\n",
    "dt_pred = dt_classifier.predict(X_test)\n",
    "dt_accuracy = accuracy_score(y_test, dt_pred)\n",
    "\n",
    "print(f\"\\nDecision Tree Accuracy: {dt_accuracy:.4f}\")\n",
    "\n",
    "# Store results\n",
    "tree_results = {\n",
    "    'Decision Tree': dt_accuracy\n",
    "}"
   ]
  },
  {
   "cell_type": "code",
   "execution_count": 43,
   "id": "77090a2e",
   "metadata": {},
   "outputs": [
    {
     "name": "stdout",
     "output_type": "stream",
     "text": [
      "\n",
      "PERFORMANCE COMPARISON\n",
      "\n",
      "Performance Metrics:\n",
      "        Model  Accuracy  Precision  Recall  F1-Score\n",
      "   Linear SVM    0.7597     0.6667  0.6545    0.6606\n",
      "      RBF SVM    0.7338     0.6458  0.5636    0.6019\n",
      "Decision Tree    0.7532     0.6393  0.7091    0.6724\n"
     ]
    }
   ],
   "source": [
    "# Performance Comparison\n",
    "print(\"\\nPERFORMANCE COMPARISON\")\n",
    "\n",
    "# Calculate detailed metrics for all models\n",
    "models_data = []\n",
    "\n",
    "# Linear SVM metrics\n",
    "linear_precision = precision_score(y_test, linear_pred)\n",
    "linear_recall = recall_score(y_test, linear_pred)\n",
    "linear_f1 = f1_score(y_test, linear_pred)\n",
    "\n",
    "models_data.append({\n",
    "    'Model': 'Linear SVM',\n",
    "    'Accuracy': linear_accuracy,\n",
    "    'Precision': linear_precision,\n",
    "    'Recall': linear_recall,\n",
    "    'F1-Score': linear_f1\n",
    "})\n",
    "\n",
    "# RBF SVM metrics\n",
    "rbf_precision = precision_score(y_test, rbf_pred)\n",
    "rbf_recall = recall_score(y_test, rbf_pred)\n",
    "rbf_f1 = f1_score(y_test, rbf_pred)\n",
    "\n",
    "models_data.append({\n",
    "    'Model': 'RBF SVM',\n",
    "    'Accuracy': rbf_accuracy,\n",
    "    'Precision': rbf_precision,\n",
    "    'Recall': rbf_recall,\n",
    "    'F1-Score': rbf_f1\n",
    "})\n",
    "\n",
    "# Decision Tree metrics\n",
    "dt_precision = precision_score(y_test, dt_pred)\n",
    "dt_recall = recall_score(y_test, dt_pred)\n",
    "dt_f1 = f1_score(y_test, dt_pred)\n",
    "\n",
    "models_data.append({\n",
    "    'Model': 'Decision Tree',\n",
    "    'Accuracy': dt_accuracy,\n",
    "    'Precision': dt_precision,\n",
    "    'Recall': dt_recall,\n",
    "    'F1-Score': dt_f1\n",
    "})\n",
    "\n",
    "# Create comparison DataFrame\n",
    "comparison_df = pd.DataFrame(models_data)\n",
    "\n",
    "print(\"\\nPerformance Metrics:\")\n",
    "print(comparison_df.round(4).to_string(index=False))"
   ]
  },
  {
   "cell_type": "code",
   "execution_count": 44,
   "id": "3096a307",
   "metadata": {},
   "outputs": [
    {
     "data": {
      "image/png": "[encoded data removed]",
      "text/plain": [
       "<Figure size 1200x800 with 1 Axes>"
      ]
     },
     "metadata": {},
     "output_type": "display_data"
    }
   ],
   "source": [
    "# Performance Visualization\n",
    "plt.figure(figsize=(12, 8))\n",
    "\n",
    "# Prepare data for visualization\n",
    "models = comparison_df['Model']\n",
    "metrics = ['Accuracy', 'Precision', 'Recall', 'F1-Score']\n",
    "colors = ['skyblue', 'lightcoral', 'lightgreen']\n",
    "\n",
    "# Create grouped bar chart\n",
    "x = np.arange(len(metrics))\n",
    "width = 0.25\n",
    "\n",
    "for i, model in enumerate(models):\n",
    "    values = [comparison_df.iloc[i][metric] for metric in metrics]\n",
    "    plt.bar(x + i*width, values, width, label=model, color=colors[i], alpha=0.8)\n",
    "    \n",
    "    # Add value labels on bars\n",
    "    for j, v in enumerate(values):\n",
    "        plt.text(x[j] + i*width, v + 0.01, f'{v:.3f}', \n",
    "                ha='center', va='bottom', fontsize=9)\n",
    "\n",
    "plt.xlabel('Performance Metrics')\n",
    "plt.ylabel('Score')\n",
    "plt.title('SVM vs Decision Tree Performance Comparison')\n",
    "plt.xticks(x + width, metrics)\n",
    "plt.legend()\n",
    "plt.ylim(0, 1.1)\n",
    "plt.grid(axis='y', alpha=0.3)\n",
    "plt.tight_layout()\n",
    "plt.show()"
   ]
  },
  {
   "cell_type": "markdown",
   "id": "6d1e931b",
   "metadata": {},
   "source": [
    "## Inference\n",
    "\n",
    "Based on the performance comparison between SVM classifiers and Decision Tree:\n",
    "- **Linear SVM** achieved the highest accuracy (0.760) and precision (0.667).\n",
    "- **Decision Tree** performed best in recall (0.709) and F1-score (0.672).\n",
    "- **RBF SVM** had lower scores across all metrics compared to the other models."
   ]
  }
 ],
 "metadata": {
  "kernelspec": {
   "display_name": "Python 3",
   "language": "python",
   "name": "python3"
  },
  "language_info": {
   "codemirror_mode": {
    "name": "ipython",
    "version": 3
   },
   "file_extension": ".py",
   "mimetype": "text/x-python",
   "name": "python",
   "nbconvert_exporter": "python",
   "pygments_lexer": "ipython3",
   "version": "3.12.9"
  }
 },
 "nbformat": 4,
 "nbformat_minor": 5
}
