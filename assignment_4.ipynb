{
 "cells": [
  {
   "cell_type": "markdown",
   "id": "e2286e10",
   "metadata": {},
   "source": [
    "Implementation of SVM\n",
    "<br>\n",
    "Comparing performance of SVM with tree based classifier"
   ]
  }
 ],
 "metadata": {
  "language_info": {
   "name": "python"
  }
 },
 "nbformat": 4,
 "nbformat_minor": 5
}
